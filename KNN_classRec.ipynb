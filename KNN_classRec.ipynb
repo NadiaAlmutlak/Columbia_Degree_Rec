{
 "cells": [
  {
   "cell_type": "markdown",
   "metadata": {},
   "source": [
    "## KNN Class Recommender \n",
    "A notebook of the general recommender "
   ]
  },
  {
   "cell_type": "code",
   "execution_count": 4,
   "metadata": {},
   "outputs": [
    {
     "ename": "ImportError",
     "evalue": "cannot import name 'truncatedSVD'",
     "output_type": "error",
     "traceback": [
      "\u001b[0;31m---------------------------------------------------------------------------\u001b[0m",
      "\u001b[0;31mImportError\u001b[0m                               Traceback (most recent call last)",
      "\u001b[0;32m<ipython-input-4-84ec046ec7ff>\u001b[0m in \u001b[0;36m<module>\u001b[0;34m()\u001b[0m\n\u001b[1;32m      3\u001b[0m \u001b[0;32mfrom\u001b[0m \u001b[0mscipy\u001b[0m\u001b[0;34m.\u001b[0m\u001b[0msparse\u001b[0m \u001b[0;32mimport\u001b[0m \u001b[0mcsr_matrix\u001b[0m\u001b[0;34m\u001b[0m\u001b[0m\n\u001b[1;32m      4\u001b[0m \u001b[0;32mimport\u001b[0m \u001b[0msklearn\u001b[0m\u001b[0;34m\u001b[0m\u001b[0m\n\u001b[0;32m----> 5\u001b[0;31m \u001b[0;32mfrom\u001b[0m \u001b[0msklearn\u001b[0m\u001b[0;34m.\u001b[0m\u001b[0mdecomposition\u001b[0m \u001b[0;32mimport\u001b[0m \u001b[0mtruncatedSVD\u001b[0m\u001b[0;34m\u001b[0m\u001b[0m\n\u001b[0m",
      "\u001b[0;31mImportError\u001b[0m: cannot import name 'truncatedSVD'"
     ]
    }
   ],
   "source": [
    "import pandas as pd\n",
    "import numpy as np \n",
    "from scipy.sparse import csr_matrix\n",
    "import sklearn\n",
    "from sklearn.decomposition import truncatedSVD\n"
   ]
  },
  {
   "cell_type": "markdown",
   "metadata": {},
   "source": [
    "# Importing the CSVs generated from our scrappers and filtered\n",
    "We read the CSVs we created based on our scraping codes., then we show small parts of it and its general information."
   ]
  },
  {
   "cell_type": "code",
   "execution_count": 17,
   "metadata": {},
   "outputs": [
    {
     "data": {
      "text/html": [
       "<div>\n",
       "<style>\n",
       "    .dataframe thead tr:only-child th {\n",
       "        text-align: right;\n",
       "    }\n",
       "\n",
       "    .dataframe thead th {\n",
       "        text-align: left;\n",
       "    }\n",
       "\n",
       "    .dataframe tbody tr th {\n",
       "        vertical-align: top;\n",
       "    }\n",
       "</style>\n",
       "<table border=\"1\" class=\"dataframe\">\n",
       "  <thead>\n",
       "    <tr style=\"text-align: right;\">\n",
       "      <th></th>\n",
       "      <th>class_id</th>\n",
       "      <th>class_code</th>\n",
       "      <th>class_title</th>\n",
       "      <th>type</th>\n",
       "      <th>year</th>\n",
       "      <th>link</th>\n",
       "    </tr>\n",
       "  </thead>\n",
       "  <tbody>\n",
       "    <tr>\n",
       "      <th>0</th>\n",
       "      <td>1</td>\n",
       "      <td>E1008</td>\n",
       "      <td>INTRO TO MACHINING</td>\n",
       "      <td>1</td>\n",
       "      <td>1</td>\n",
       "      <td>http://www.columbia.edu/cu/bulletin/uwb/subj/M...</td>\n",
       "    </tr>\n",
       "    <tr>\n",
       "      <th>1</th>\n",
       "      <td>2</td>\n",
       "      <td>E3028</td>\n",
       "      <td>MECHANICAL ENGINEERING LAB II</td>\n",
       "      <td>8</td>\n",
       "      <td>3</td>\n",
       "      <td>http://www.columbia.edu/cu/bulletin/uwb/subj/M...</td>\n",
       "    </tr>\n",
       "    <tr>\n",
       "      <th>2</th>\n",
       "      <td>3</td>\n",
       "      <td>E3105</td>\n",
       "      <td>MECHANICS</td>\n",
       "      <td>1</td>\n",
       "      <td>2</td>\n",
       "      <td>http://www.columbia.edu/cu/bulletin/uwb/subj/E...</td>\n",
       "    </tr>\n",
       "    <tr>\n",
       "      <th>3</th>\n",
       "      <td>4</td>\n",
       "      <td>E3311</td>\n",
       "      <td>HEAT TRANSFER</td>\n",
       "      <td>7</td>\n",
       "      <td>3</td>\n",
       "      <td>http://www.columbia.edu/cu/bulletin/uwb/subj/M...</td>\n",
       "    </tr>\n",
       "    <tr>\n",
       "      <th>4</th>\n",
       "      <td>5</td>\n",
       "      <td>E3408</td>\n",
       "      <td>COMPUTER GRAPHICS &amp;amp; DESIGN</td>\n",
       "      <td>1</td>\n",
       "      <td>2</td>\n",
       "      <td>http://www.columbia.edu/cu/bulletin/uwb/subj/M...</td>\n",
       "    </tr>\n",
       "  </tbody>\n",
       "</table>\n",
       "</div>"
      ],
      "text/plain": [
       "   class_id class_code                     class_title  type  year  \\\n",
       "0         1      E1008              INTRO TO MACHINING     1     1   \n",
       "1         2      E3028   MECHANICAL ENGINEERING LAB II     8     3   \n",
       "2         3      E3105                       MECHANICS     1     2   \n",
       "3         4      E3311                   HEAT TRANSFER     7     3   \n",
       "4         5      E3408  COMPUTER GRAPHICS &amp; DESIGN     1     2   \n",
       "\n",
       "                                                link  \n",
       "0  http://www.columbia.edu/cu/bulletin/uwb/subj/M...  \n",
       "1  http://www.columbia.edu/cu/bulletin/uwb/subj/M...  \n",
       "2  http://www.columbia.edu/cu/bulletin/uwb/subj/E...  \n",
       "3  http://www.columbia.edu/cu/bulletin/uwb/subj/M...  \n",
       "4  http://www.columbia.edu/cu/bulletin/uwb/subj/M...  "
      ]
     },
     "execution_count": 17,
     "metadata": {},
     "output_type": "execute_result"
    }
   ],
   "source": [
    "classes=pd.read_csv('/Users/nadiam/Desktop/Final_Project/CSV/class_info.csv', sep=',', error_bad_lines= False)\n",
    "classes.head()\n",
    "\n",
    "#This information comes from the scraping codes I have in my repo,\n",
    "# The rest of the datasets are mock data sets I made for testing. \n"
   ]
  },
  {
   "cell_type": "code",
   "execution_count": 16,
   "metadata": {},
   "outputs": [
    {
     "name": "stdout",
     "output_type": "stream",
     "text": [
      "<class 'pandas.core.frame.DataFrame'>\n",
      "RangeIndex: 41 entries, 0 to 40\n",
      "Data columns (total 6 columns):\n",
      "class_id       41 non-null int64\n",
      "class_code     41 non-null object\n",
      "class_title    41 non-null object\n",
      "type           41 non-null int64\n",
      "year           41 non-null int64\n",
      "link           41 non-null object\n",
      "dtypes: int64(3), object(3)\n",
      "memory usage: 2.0+ KB\n"
     ]
    }
   ],
   "source": [
    "classes.info()"
   ]
  },
  {
   "cell_type": "code",
   "execution_count": 6,
   "metadata": {},
   "outputs": [
    {
     "data": {
      "text/html": [
       "<div>\n",
       "<style>\n",
       "    .dataframe thead tr:only-child th {\n",
       "        text-align: right;\n",
       "    }\n",
       "\n",
       "    .dataframe thead th {\n",
       "        text-align: left;\n",
       "    }\n",
       "\n",
       "    .dataframe tbody tr th {\n",
       "        vertical-align: top;\n",
       "    }\n",
       "</style>\n",
       "<table border=\"1\" class=\"dataframe\">\n",
       "  <thead>\n",
       "    <tr style=\"text-align: right;\">\n",
       "      <th></th>\n",
       "      <th>user_id</th>\n",
       "      <th>class_id</th>\n",
       "      <th>rating</th>\n",
       "    </tr>\n",
       "  </thead>\n",
       "  <tbody>\n",
       "    <tr>\n",
       "      <th>0</th>\n",
       "      <td>1</td>\n",
       "      <td>17</td>\n",
       "      <td>5</td>\n",
       "    </tr>\n",
       "    <tr>\n",
       "      <th>1</th>\n",
       "      <td>2</td>\n",
       "      <td>1</td>\n",
       "      <td>2</td>\n",
       "    </tr>\n",
       "    <tr>\n",
       "      <th>2</th>\n",
       "      <td>3</td>\n",
       "      <td>40</td>\n",
       "      <td>4</td>\n",
       "    </tr>\n",
       "    <tr>\n",
       "      <th>3</th>\n",
       "      <td>4</td>\n",
       "      <td>34</td>\n",
       "      <td>1</td>\n",
       "    </tr>\n",
       "    <tr>\n",
       "      <th>4</th>\n",
       "      <td>5</td>\n",
       "      <td>31</td>\n",
       "      <td>3</td>\n",
       "    </tr>\n",
       "  </tbody>\n",
       "</table>\n",
       "</div>"
      ],
      "text/plain": [
       "   user_id  class_id  rating\n",
       "0        1        17       5\n",
       "1        2         1       2\n",
       "2        3        40       4\n",
       "3        4        34       1\n",
       "4        5        31       3"
      ]
     },
     "execution_count": 6,
     "metadata": {},
     "output_type": "execute_result"
    }
   ],
   "source": [
    "ratings=pd.read_csv('/Users/nadiam/Desktop/Final_Project/CSV/userrating_info.csv')\n",
    "ratings.head()"
   ]
  },
  {
   "cell_type": "code",
   "execution_count": 18,
   "metadata": {},
   "outputs": [
    {
     "name": "stdout",
     "output_type": "stream",
     "text": [
      "<class 'pandas.core.frame.DataFrame'>\n",
      "RangeIndex: 1000 entries, 0 to 999\n",
      "Data columns (total 3 columns):\n",
      "user_id     1000 non-null int64\n",
      "class_id    1000 non-null int64\n",
      "rating      1000 non-null int64\n",
      "dtypes: int64(3)\n",
      "memory usage: 23.5 KB\n"
     ]
    }
   ],
   "source": [
    "ratings.info()"
   ]
  },
  {
   "cell_type": "code",
   "execution_count": 7,
   "metadata": {},
   "outputs": [
    {
     "data": {
      "text/html": [
       "<div>\n",
       "<style>\n",
       "    .dataframe thead tr:only-child th {\n",
       "        text-align: right;\n",
       "    }\n",
       "\n",
       "    .dataframe thead th {\n",
       "        text-align: left;\n",
       "    }\n",
       "\n",
       "    .dataframe tbody tr th {\n",
       "        vertical-align: top;\n",
       "    }\n",
       "</style>\n",
       "<table border=\"1\" class=\"dataframe\">\n",
       "  <thead>\n",
       "    <tr style=\"text-align: right;\">\n",
       "      <th></th>\n",
       "      <th>user_id</th>\n",
       "      <th>year_id</th>\n",
       "      <th>type</th>\n",
       "    </tr>\n",
       "  </thead>\n",
       "  <tbody>\n",
       "    <tr>\n",
       "      <th>0</th>\n",
       "      <td>1</td>\n",
       "      <td>2</td>\n",
       "      <td>5</td>\n",
       "    </tr>\n",
       "    <tr>\n",
       "      <th>1</th>\n",
       "      <td>2</td>\n",
       "      <td>3</td>\n",
       "      <td>1</td>\n",
       "    </tr>\n",
       "    <tr>\n",
       "      <th>2</th>\n",
       "      <td>3</td>\n",
       "      <td>3</td>\n",
       "      <td>5</td>\n",
       "    </tr>\n",
       "    <tr>\n",
       "      <th>3</th>\n",
       "      <td>4</td>\n",
       "      <td>1</td>\n",
       "      <td>6</td>\n",
       "    </tr>\n",
       "    <tr>\n",
       "      <th>4</th>\n",
       "      <td>5</td>\n",
       "      <td>1</td>\n",
       "      <td>4</td>\n",
       "    </tr>\n",
       "  </tbody>\n",
       "</table>\n",
       "</div>"
      ],
      "text/plain": [
       "   user_id  year_id  type\n",
       "0        1        2     5\n",
       "1        2        3     1\n",
       "2        3        3     5\n",
       "3        4        1     6\n",
       "4        5        1     4"
      ]
     },
     "execution_count": 7,
     "metadata": {},
     "output_type": "execute_result"
    }
   ],
   "source": [
    "users=pd.read_csv('/Users/nadiam/Desktop/Final_Project/CSV/user_info.csv', sep=',', error_bad_lines= False)\n",
    "users.head()"
   ]
  },
  {
   "cell_type": "code",
   "execution_count": 19,
   "metadata": {},
   "outputs": [
    {
     "name": "stdout",
     "output_type": "stream",
     "text": [
      "<class 'pandas.core.frame.DataFrame'>\n",
      "RangeIndex: 1000 entries, 0 to 999\n",
      "Data columns (total 3 columns):\n",
      "user_id    1000 non-null int64\n",
      "year_id    1000 non-null int64\n",
      "type       1000 non-null int64\n",
      "dtypes: int64(3)\n",
      "memory usage: 23.5 KB\n"
     ]
    }
   ],
   "source": [
    "users.info()"
   ]
  },
  {
   "cell_type": "markdown",
   "metadata": {},
   "source": [
    "### We then combine the Class data and the ratings data in order to create a dataset that contains our necessary features for our future matrices."
   ]
  },
  {
   "cell_type": "code",
   "execution_count": 8,
   "metadata": {
    "scrolled": true
   },
   "outputs": [
    {
     "data": {
      "text/html": [
       "<div>\n",
       "<style>\n",
       "    .dataframe thead tr:only-child th {\n",
       "        text-align: right;\n",
       "    }\n",
       "\n",
       "    .dataframe thead th {\n",
       "        text-align: left;\n",
       "    }\n",
       "\n",
       "    .dataframe tbody tr th {\n",
       "        vertical-align: top;\n",
       "    }\n",
       "</style>\n",
       "<table border=\"1\" class=\"dataframe\">\n",
       "  <thead>\n",
       "    <tr style=\"text-align: right;\">\n",
       "      <th></th>\n",
       "      <th>user_id</th>\n",
       "      <th>class_id</th>\n",
       "      <th>rating</th>\n",
       "      <th>class_code</th>\n",
       "      <th>class_title</th>\n",
       "      <th>type</th>\n",
       "      <th>year</th>\n",
       "      <th>link</th>\n",
       "    </tr>\n",
       "  </thead>\n",
       "  <tbody>\n",
       "    <tr>\n",
       "      <th>0</th>\n",
       "      <td>1</td>\n",
       "      <td>17</td>\n",
       "      <td>5</td>\n",
       "      <td>E4302</td>\n",
       "      <td>ADVANCED THERMODYNAMICS</td>\n",
       "      <td>2</td>\n",
       "      <td>4</td>\n",
       "      <td>http://www.columbia.edu/cu/bulletin/uwb/subj/M...</td>\n",
       "    </tr>\n",
       "    <tr>\n",
       "      <th>1</th>\n",
       "      <td>8</td>\n",
       "      <td>17</td>\n",
       "      <td>2</td>\n",
       "      <td>E4302</td>\n",
       "      <td>ADVANCED THERMODYNAMICS</td>\n",
       "      <td>2</td>\n",
       "      <td>4</td>\n",
       "      <td>http://www.columbia.edu/cu/bulletin/uwb/subj/M...</td>\n",
       "    </tr>\n",
       "    <tr>\n",
       "      <th>2</th>\n",
       "      <td>20</td>\n",
       "      <td>17</td>\n",
       "      <td>2</td>\n",
       "      <td>E4302</td>\n",
       "      <td>ADVANCED THERMODYNAMICS</td>\n",
       "      <td>2</td>\n",
       "      <td>4</td>\n",
       "      <td>http://www.columbia.edu/cu/bulletin/uwb/subj/M...</td>\n",
       "    </tr>\n",
       "    <tr>\n",
       "      <th>3</th>\n",
       "      <td>66</td>\n",
       "      <td>17</td>\n",
       "      <td>5</td>\n",
       "      <td>E4302</td>\n",
       "      <td>ADVANCED THERMODYNAMICS</td>\n",
       "      <td>2</td>\n",
       "      <td>4</td>\n",
       "      <td>http://www.columbia.edu/cu/bulletin/uwb/subj/M...</td>\n",
       "    </tr>\n",
       "    <tr>\n",
       "      <th>4</th>\n",
       "      <td>130</td>\n",
       "      <td>17</td>\n",
       "      <td>5</td>\n",
       "      <td>E4302</td>\n",
       "      <td>ADVANCED THERMODYNAMICS</td>\n",
       "      <td>2</td>\n",
       "      <td>4</td>\n",
       "      <td>http://www.columbia.edu/cu/bulletin/uwb/subj/M...</td>\n",
       "    </tr>\n",
       "  </tbody>\n",
       "</table>\n",
       "</div>"
      ],
      "text/plain": [
       "   user_id  class_id  rating class_code              class_title  type  year  \\\n",
       "0        1        17       5      E4302  ADVANCED THERMODYNAMICS     2     4   \n",
       "1        8        17       2      E4302  ADVANCED THERMODYNAMICS     2     4   \n",
       "2       20        17       2      E4302  ADVANCED THERMODYNAMICS     2     4   \n",
       "3       66        17       5      E4302  ADVANCED THERMODYNAMICS     2     4   \n",
       "4      130        17       5      E4302  ADVANCED THERMODYNAMICS     2     4   \n",
       "\n",
       "                                                link  \n",
       "0  http://www.columbia.edu/cu/bulletin/uwb/subj/M...  \n",
       "1  http://www.columbia.edu/cu/bulletin/uwb/subj/M...  \n",
       "2  http://www.columbia.edu/cu/bulletin/uwb/subj/M...  \n",
       "3  http://www.columbia.edu/cu/bulletin/uwb/subj/M...  \n",
       "4  http://www.columbia.edu/cu/bulletin/uwb/subj/M...  "
      ]
     },
     "execution_count": 8,
     "metadata": {},
     "output_type": "execute_result"
    }
   ],
   "source": [
    "combined_class_rating = pd.merge(ratings,classes, on=\"class_id\") #we combine the two DF on the class id which is joint \n",
    "#between the two dfs.\n",
    "combined_class_rating.head()"
   ]
  },
  {
   "cell_type": "markdown",
   "metadata": {},
   "source": [
    "# Exploring the data"
   ]
  },
  {
   "cell_type": "code",
   "execution_count": 39,
   "metadata": {},
   "outputs": [
    {
     "data": {
      "text/html": [
       "<div>\n",
       "<style>\n",
       "    .dataframe thead tr:only-child th {\n",
       "        text-align: right;\n",
       "    }\n",
       "\n",
       "    .dataframe thead th {\n",
       "        text-align: left;\n",
       "    }\n",
       "\n",
       "    .dataframe tbody tr th {\n",
       "        vertical-align: top;\n",
       "    }\n",
       "</style>\n",
       "<table border=\"1\" class=\"dataframe\">\n",
       "  <thead>\n",
       "    <tr style=\"text-align: right;\">\n",
       "      <th></th>\n",
       "      <th>count</th>\n",
       "    </tr>\n",
       "    <tr>\n",
       "      <th>rating</th>\n",
       "      <th></th>\n",
       "    </tr>\n",
       "  </thead>\n",
       "  <tbody>\n",
       "    <tr>\n",
       "      <th>1</th>\n",
       "      <td>170</td>\n",
       "    </tr>\n",
       "    <tr>\n",
       "      <th>2</th>\n",
       "      <td>210</td>\n",
       "    </tr>\n",
       "    <tr>\n",
       "      <th>3</th>\n",
       "      <td>212</td>\n",
       "    </tr>\n",
       "    <tr>\n",
       "      <th>4</th>\n",
       "      <td>210</td>\n",
       "    </tr>\n",
       "    <tr>\n",
       "      <th>5</th>\n",
       "      <td>198</td>\n",
       "    </tr>\n",
       "  </tbody>\n",
       "</table>\n",
       "</div>"
      ],
      "text/plain": [
       "        count\n",
       "rating       \n",
       "1         170\n",
       "2         210\n",
       "3         212\n",
       "4         210\n",
       "5         198"
      ]
     },
     "execution_count": 39,
     "metadata": {},
     "output_type": "execute_result"
    }
   ],
   "source": [
    "# number of ratings in our mock dataset\n",
    "df_ratings_cnt = pd.DataFrame(ratings.groupby('rating').size(), columns=['count'])\n",
    "df_ratings_cnt"
   ]
  },
  {
   "cell_type": "code",
   "execution_count": 10,
   "metadata": {},
   "outputs": [
    {
     "data": {
      "text/html": [
       "<div>\n",
       "<style>\n",
       "    .dataframe thead tr:only-child th {\n",
       "        text-align: right;\n",
       "    }\n",
       "\n",
       "    .dataframe thead th {\n",
       "        text-align: left;\n",
       "    }\n",
       "\n",
       "    .dataframe tbody tr th {\n",
       "        vertical-align: top;\n",
       "    }\n",
       "</style>\n",
       "<table border=\"1\" class=\"dataframe\">\n",
       "  <thead>\n",
       "    <tr style=\"text-align: right;\">\n",
       "      <th></th>\n",
       "      <th>user_id</th>\n",
       "      <th>class_id</th>\n",
       "      <th>rating</th>\n",
       "      <th>class_code</th>\n",
       "      <th>class_title</th>\n",
       "      <th>type</th>\n",
       "      <th>year</th>\n",
       "      <th>link</th>\n",
       "      <th>totalrating</th>\n",
       "    </tr>\n",
       "  </thead>\n",
       "  <tbody>\n",
       "    <tr>\n",
       "      <th>0</th>\n",
       "      <td>1</td>\n",
       "      <td>17</td>\n",
       "      <td>5</td>\n",
       "      <td>E4302</td>\n",
       "      <td>ADVANCED THERMODYNAMICS</td>\n",
       "      <td>2</td>\n",
       "      <td>4</td>\n",
       "      <td>http://www.columbia.edu/cu/bulletin/uwb/subj/M...</td>\n",
       "      <td>31</td>\n",
       "    </tr>\n",
       "    <tr>\n",
       "      <th>1</th>\n",
       "      <td>8</td>\n",
       "      <td>17</td>\n",
       "      <td>2</td>\n",
       "      <td>E4302</td>\n",
       "      <td>ADVANCED THERMODYNAMICS</td>\n",
       "      <td>2</td>\n",
       "      <td>4</td>\n",
       "      <td>http://www.columbia.edu/cu/bulletin/uwb/subj/M...</td>\n",
       "      <td>31</td>\n",
       "    </tr>\n",
       "    <tr>\n",
       "      <th>2</th>\n",
       "      <td>20</td>\n",
       "      <td>17</td>\n",
       "      <td>2</td>\n",
       "      <td>E4302</td>\n",
       "      <td>ADVANCED THERMODYNAMICS</td>\n",
       "      <td>2</td>\n",
       "      <td>4</td>\n",
       "      <td>http://www.columbia.edu/cu/bulletin/uwb/subj/M...</td>\n",
       "      <td>31</td>\n",
       "    </tr>\n",
       "    <tr>\n",
       "      <th>3</th>\n",
       "      <td>66</td>\n",
       "      <td>17</td>\n",
       "      <td>5</td>\n",
       "      <td>E4302</td>\n",
       "      <td>ADVANCED THERMODYNAMICS</td>\n",
       "      <td>2</td>\n",
       "      <td>4</td>\n",
       "      <td>http://www.columbia.edu/cu/bulletin/uwb/subj/M...</td>\n",
       "      <td>31</td>\n",
       "    </tr>\n",
       "    <tr>\n",
       "      <th>4</th>\n",
       "      <td>130</td>\n",
       "      <td>17</td>\n",
       "      <td>5</td>\n",
       "      <td>E4302</td>\n",
       "      <td>ADVANCED THERMODYNAMICS</td>\n",
       "      <td>2</td>\n",
       "      <td>4</td>\n",
       "      <td>http://www.columbia.edu/cu/bulletin/uwb/subj/M...</td>\n",
       "      <td>31</td>\n",
       "    </tr>\n",
       "  </tbody>\n",
       "</table>\n",
       "</div>"
      ],
      "text/plain": [
       "   user_id  class_id  rating class_code              class_title  type  year  \\\n",
       "0        1        17       5      E4302  ADVANCED THERMODYNAMICS     2     4   \n",
       "1        8        17       2      E4302  ADVANCED THERMODYNAMICS     2     4   \n",
       "2       20        17       2      E4302  ADVANCED THERMODYNAMICS     2     4   \n",
       "3       66        17       5      E4302  ADVANCED THERMODYNAMICS     2     4   \n",
       "4      130        17       5      E4302  ADVANCED THERMODYNAMICS     2     4   \n",
       "\n",
       "                                                link  totalrating  \n",
       "0  http://www.columbia.edu/cu/bulletin/uwb/subj/M...           31  \n",
       "1  http://www.columbia.edu/cu/bulletin/uwb/subj/M...           31  \n",
       "2  http://www.columbia.edu/cu/bulletin/uwb/subj/M...           31  \n",
       "3  http://www.columbia.edu/cu/bulletin/uwb/subj/M...           31  \n",
       "4  http://www.columbia.edu/cu/bulletin/uwb/subj/M...           31  "
      ]
     },
     "execution_count": 10,
     "metadata": {},
     "output_type": "execute_result"
    }
   ],
   "source": [
    "#we add a column to our dataset that has the toal number of ratings for each class then arranges them in order.\n",
    "rating_total=combined_class_rating.merge(class_ratingcount, left_on='class_title', right_on=\"class_title\")\n",
    "rating_total.head()"
   ]
  },
  {
   "cell_type": "code",
   "execution_count": 46,
   "metadata": {},
   "outputs": [
    {
     "data": {
      "text/plain": [
       "<matplotlib.figure.Figure at 0x1a0812b198>"
      ]
     },
     "metadata": {},
     "output_type": "display_data"
    },
    {
     "data": {
      "text/plain": [
       "<matplotlib.figure.Figure at 0x1a0da863c8>"
      ]
     },
     "metadata": {},
     "output_type": "display_data"
    },
    {
     "data": {
      "image/png": "[encoded data removed]",
      "text/plain": [
       "<matplotlib.figure.Figure at 0x1a0da8f518>"
      ]
     },
     "metadata": {},
     "output_type": "display_data"
    }
   ],
   "source": [
    "import matplotlib.pyplot as plt\n",
    "import seaborn as sns\n",
    "\n",
    "# correlation between rating, and class\n",
    "plt.figure(figsize=(12,10))\n",
    "cor = rating_total.corr()\n",
    "sns.heatmap(cor, annot=True, cmap=plt.cm.Reds)\n",
    "plt.show()"
   ]
  },
  {
   "cell_type": "markdown",
   "metadata": {},
   "source": [
    "## Problems with this correlation\n",
    "Considering that the data used here is mock data, we can't really rely on these coorelations. However, some expected correlations may be type/rating as people are more likely to positively rate classes that are the right type for them. \n",
    "Another expected correlation may be type/year as more classes become more specialized as students progress. "
   ]
  },
  {
   "cell_type": "markdown",
   "metadata": {},
   "source": [
    "## Some statistics for the class ratings in our mock data set"
   ]
  },
  {
   "cell_type": "code",
   "execution_count": 9,
   "metadata": {},
   "outputs": [
    {
     "data": {
      "text/html": [
       "<div>\n",
       "<style>\n",
       "    .dataframe thead tr:only-child th {\n",
       "        text-align: right;\n",
       "    }\n",
       "\n",
       "    .dataframe thead th {\n",
       "        text-align: left;\n",
       "    }\n",
       "\n",
       "    .dataframe tbody tr th {\n",
       "        vertical-align: top;\n",
       "    }\n",
       "</style>\n",
       "<table border=\"1\" class=\"dataframe\">\n",
       "  <thead>\n",
       "    <tr style=\"text-align: right;\">\n",
       "      <th></th>\n",
       "      <th>class_title</th>\n",
       "      <th>totalrating</th>\n",
       "    </tr>\n",
       "  </thead>\n",
       "  <tbody>\n",
       "    <tr>\n",
       "      <th>0</th>\n",
       "      <td>ADVANCED HEAT TRANSFER</td>\n",
       "      <td>22</td>\n",
       "    </tr>\n",
       "    <tr>\n",
       "      <th>1</th>\n",
       "      <td>ADVANCED MACHINE DYNAMICS</td>\n",
       "      <td>22</td>\n",
       "    </tr>\n",
       "    <tr>\n",
       "      <th>2</th>\n",
       "      <td>ADVANCED THERMODYNAMICS</td>\n",
       "      <td>31</td>\n",
       "    </tr>\n",
       "    <tr>\n",
       "      <th>3</th>\n",
       "      <td>APPLIED SIGNAL RECOGNITION</td>\n",
       "      <td>23</td>\n",
       "    </tr>\n",
       "    <tr>\n",
       "      <th>4</th>\n",
       "      <td>Advanced Kinematics, Dynamics, and Contr</td>\n",
       "      <td>27</td>\n",
       "    </tr>\n",
       "  </tbody>\n",
       "</table>\n",
       "</div>"
      ],
      "text/plain": [
       "                                class_title  totalrating\n",
       "0                    ADVANCED HEAT TRANSFER           22\n",
       "1                 ADVANCED MACHINE DYNAMICS           22\n",
       "2                   ADVANCED THERMODYNAMICS           31\n",
       "3                APPLIED SIGNAL RECOGNITION           23\n",
       "4  Advanced Kinematics, Dynamics, and Contr           27"
      ]
     },
     "execution_count": 9,
     "metadata": {},
     "output_type": "execute_result"
    }
   ],
   "source": [
    "# We make a new table for our classes with their total ratings \n",
    "class_ratingcount=(combined_class_rating\n",
    "                   .groupby(by=['class_title'])['rating'].\n",
    "                    count().reset_index().\n",
    "                    rename(columns={'rating':'totalrating'})\n",
    "                    [['class_title','totalrating']]\n",
    "                           )\n",
    "class_ratingcount.head()"
   ]
  },
  {
   "cell_type": "code",
   "execution_count": 11,
   "metadata": {},
   "outputs": [
    {
     "name": "stdout",
     "output_type": "stream",
     "text": [
      "count    40.000000\n",
      "mean     25.000000\n",
      "std       6.271629\n",
      "min      15.000000\n",
      "25%      22.000000\n",
      "50%      24.500000\n",
      "75%      28.250000\n",
      "max      45.000000\n",
      "Name: totalrating, dtype: float64\n"
     ]
    }
   ],
   "source": [
    "print(class_ratingcount['totalrating'].describe()) #some stats things"
   ]
  },
  {
   "cell_type": "code",
   "execution_count": 12,
   "metadata": {},
   "outputs": [
    {
     "name": "stdout",
     "output_type": "stream",
     "text": [
      "0.90    32.10\n",
      "0.91    32.49\n",
      "0.92    32.88\n",
      "0.93    33.27\n",
      "0.94    33.66\n",
      "0.95    34.05\n",
      "0.96    34.44\n",
      "0.97    34.83\n",
      "0.98    37.20\n",
      "0.99    41.10\n",
      "Name: totalrating, dtype: float64\n"
     ]
    }
   ],
   "source": [
    "print(class_ratingcount['totalrating'].quantile(np.arange(.9,1,0.01)))\n",
    "#We arrange the number of ratings in percentiles to isolate the more popular classes"
   ]
  },
  {
   "cell_type": "code",
   "execution_count": 13,
   "metadata": {},
   "outputs": [
    {
     "data": {
      "text/html": [
       "<div>\n",
       "<style>\n",
       "    .dataframe thead tr:only-child th {\n",
       "        text-align: right;\n",
       "    }\n",
       "\n",
       "    .dataframe thead th {\n",
       "        text-align: left;\n",
       "    }\n",
       "\n",
       "    .dataframe tbody tr th {\n",
       "        vertical-align: top;\n",
       "    }\n",
       "</style>\n",
       "<table border=\"1\" class=\"dataframe\">\n",
       "  <thead>\n",
       "    <tr style=\"text-align: right;\">\n",
       "      <th></th>\n",
       "      <th>user_id</th>\n",
       "      <th>class_id</th>\n",
       "      <th>rating</th>\n",
       "      <th>class_code</th>\n",
       "      <th>class_title</th>\n",
       "      <th>type</th>\n",
       "      <th>year</th>\n",
       "      <th>link</th>\n",
       "      <th>totalrating</th>\n",
       "    </tr>\n",
       "  </thead>\n",
       "  <tbody>\n",
       "    <tr>\n",
       "      <th>0</th>\n",
       "      <td>1</td>\n",
       "      <td>17</td>\n",
       "      <td>5</td>\n",
       "      <td>E4302</td>\n",
       "      <td>ADVANCED THERMODYNAMICS</td>\n",
       "      <td>2</td>\n",
       "      <td>4</td>\n",
       "      <td>http://www.columbia.edu/cu/bulletin/uwb/subj/M...</td>\n",
       "      <td>31</td>\n",
       "    </tr>\n",
       "    <tr>\n",
       "      <th>1</th>\n",
       "      <td>8</td>\n",
       "      <td>17</td>\n",
       "      <td>2</td>\n",
       "      <td>E4302</td>\n",
       "      <td>ADVANCED THERMODYNAMICS</td>\n",
       "      <td>2</td>\n",
       "      <td>4</td>\n",
       "      <td>http://www.columbia.edu/cu/bulletin/uwb/subj/M...</td>\n",
       "      <td>31</td>\n",
       "    </tr>\n",
       "    <tr>\n",
       "      <th>2</th>\n",
       "      <td>20</td>\n",
       "      <td>17</td>\n",
       "      <td>2</td>\n",
       "      <td>E4302</td>\n",
       "      <td>ADVANCED THERMODYNAMICS</td>\n",
       "      <td>2</td>\n",
       "      <td>4</td>\n",
       "      <td>http://www.columbia.edu/cu/bulletin/uwb/subj/M...</td>\n",
       "      <td>31</td>\n",
       "    </tr>\n",
       "    <tr>\n",
       "      <th>3</th>\n",
       "      <td>66</td>\n",
       "      <td>17</td>\n",
       "      <td>5</td>\n",
       "      <td>E4302</td>\n",
       "      <td>ADVANCED THERMODYNAMICS</td>\n",
       "      <td>2</td>\n",
       "      <td>4</td>\n",
       "      <td>http://www.columbia.edu/cu/bulletin/uwb/subj/M...</td>\n",
       "      <td>31</td>\n",
       "    </tr>\n",
       "    <tr>\n",
       "      <th>4</th>\n",
       "      <td>130</td>\n",
       "      <td>17</td>\n",
       "      <td>5</td>\n",
       "      <td>E4302</td>\n",
       "      <td>ADVANCED THERMODYNAMICS</td>\n",
       "      <td>2</td>\n",
       "      <td>4</td>\n",
       "      <td>http://www.columbia.edu/cu/bulletin/uwb/subj/M...</td>\n",
       "      <td>31</td>\n",
       "    </tr>\n",
       "  </tbody>\n",
       "</table>\n",
       "</div>"
      ],
      "text/plain": [
       "   user_id  class_id  rating class_code              class_title  type  year  \\\n",
       "0        1        17       5      E4302  ADVANCED THERMODYNAMICS     2     4   \n",
       "1        8        17       2      E4302  ADVANCED THERMODYNAMICS     2     4   \n",
       "2       20        17       2      E4302  ADVANCED THERMODYNAMICS     2     4   \n",
       "3       66        17       5      E4302  ADVANCED THERMODYNAMICS     2     4   \n",
       "4      130        17       5      E4302  ADVANCED THERMODYNAMICS     2     4   \n",
       "\n",
       "                                                link  totalrating  \n",
       "0  http://www.columbia.edu/cu/bulletin/uwb/subj/M...           31  \n",
       "1  http://www.columbia.edu/cu/bulletin/uwb/subj/M...           31  \n",
       "2  http://www.columbia.edu/cu/bulletin/uwb/subj/M...           31  \n",
       "3  http://www.columbia.edu/cu/bulletin/uwb/subj/M...           31  \n",
       "4  http://www.columbia.edu/cu/bulletin/uwb/subj/M...           31  "
      ]
     },
     "execution_count": 13,
     "metadata": {},
     "output_type": "execute_result"
    }
   ],
   "source": [
    "popularity_threshold= 25 # I set this because it was the average number of ratings but looking back at it now, maybe we should aim higher?\n",
    "rating_popularclass= rating_total.query('totalrating >= @popularity_threshold')\n",
    "rating_popularclass.head()"
   ]
  },
  {
   "cell_type": "markdown",
   "metadata": {},
   "source": [
    "Now we need to construct the KNN by transforming our df to a matrix. "
   ]
  },
  {
   "cell_type": "code",
   "execution_count": 56,
   "metadata": {},
   "outputs": [
    {
     "data": {
      "text/html": [
       "<div>\n",
       "<style>\n",
       "    .dataframe thead tr:only-child th {\n",
       "        text-align: right;\n",
       "    }\n",
       "\n",
       "    .dataframe thead th {\n",
       "        text-align: left;\n",
       "    }\n",
       "\n",
       "    .dataframe tbody tr th {\n",
       "        vertical-align: top;\n",
       "    }\n",
       "</style>\n",
       "<table border=\"1\" class=\"dataframe\">\n",
       "  <thead>\n",
       "    <tr style=\"text-align: right;\">\n",
       "      <th>user_id</th>\n",
       "      <th>1</th>\n",
       "      <th>2</th>\n",
       "      <th>3</th>\n",
       "      <th>4</th>\n",
       "      <th>5</th>\n",
       "      <th>6</th>\n",
       "      <th>7</th>\n",
       "      <th>8</th>\n",
       "      <th>9</th>\n",
       "      <th>10</th>\n",
       "      <th>...</th>\n",
       "      <th>991</th>\n",
       "      <th>992</th>\n",
       "      <th>993</th>\n",
       "      <th>994</th>\n",
       "      <th>995</th>\n",
       "      <th>996</th>\n",
       "      <th>997</th>\n",
       "      <th>998</th>\n",
       "      <th>999</th>\n",
       "      <th>1000</th>\n",
       "    </tr>\n",
       "    <tr>\n",
       "      <th>class_title</th>\n",
       "      <th></th>\n",
       "      <th></th>\n",
       "      <th></th>\n",
       "      <th></th>\n",
       "      <th></th>\n",
       "      <th></th>\n",
       "      <th></th>\n",
       "      <th></th>\n",
       "      <th></th>\n",
       "      <th></th>\n",
       "      <th></th>\n",
       "      <th></th>\n",
       "      <th></th>\n",
       "      <th></th>\n",
       "      <th></th>\n",
       "      <th></th>\n",
       "      <th></th>\n",
       "      <th></th>\n",
       "      <th></th>\n",
       "      <th></th>\n",
       "      <th></th>\n",
       "    </tr>\n",
       "  </thead>\n",
       "  <tbody>\n",
       "    <tr>\n",
       "      <th>ADVANCED HEAT TRANSFER</th>\n",
       "      <td>0.0</td>\n",
       "      <td>0.0</td>\n",
       "      <td>0.0</td>\n",
       "      <td>0.0</td>\n",
       "      <td>0.0</td>\n",
       "      <td>0.0</td>\n",
       "      <td>4.0</td>\n",
       "      <td>0.0</td>\n",
       "      <td>0.0</td>\n",
       "      <td>2.0</td>\n",
       "      <td>...</td>\n",
       "      <td>0.0</td>\n",
       "      <td>0.0</td>\n",
       "      <td>0.0</td>\n",
       "      <td>0.0</td>\n",
       "      <td>0.0</td>\n",
       "      <td>0.0</td>\n",
       "      <td>0.0</td>\n",
       "      <td>0.0</td>\n",
       "      <td>0.0</td>\n",
       "      <td>0.0</td>\n",
       "    </tr>\n",
       "    <tr>\n",
       "      <th>ADVANCED MACHINE DYNAMICS</th>\n",
       "      <td>0.0</td>\n",
       "      <td>0.0</td>\n",
       "      <td>0.0</td>\n",
       "      <td>1.0</td>\n",
       "      <td>0.0</td>\n",
       "      <td>0.0</td>\n",
       "      <td>0.0</td>\n",
       "      <td>0.0</td>\n",
       "      <td>0.0</td>\n",
       "      <td>0.0</td>\n",
       "      <td>...</td>\n",
       "      <td>0.0</td>\n",
       "      <td>0.0</td>\n",
       "      <td>0.0</td>\n",
       "      <td>0.0</td>\n",
       "      <td>0.0</td>\n",
       "      <td>0.0</td>\n",
       "      <td>0.0</td>\n",
       "      <td>0.0</td>\n",
       "      <td>0.0</td>\n",
       "      <td>0.0</td>\n",
       "    </tr>\n",
       "    <tr>\n",
       "      <th>ADVANCED THERMODYNAMICS</th>\n",
       "      <td>5.0</td>\n",
       "      <td>0.0</td>\n",
       "      <td>0.0</td>\n",
       "      <td>0.0</td>\n",
       "      <td>0.0</td>\n",
       "      <td>0.0</td>\n",
       "      <td>0.0</td>\n",
       "      <td>2.0</td>\n",
       "      <td>0.0</td>\n",
       "      <td>0.0</td>\n",
       "      <td>...</td>\n",
       "      <td>4.0</td>\n",
       "      <td>0.0</td>\n",
       "      <td>0.0</td>\n",
       "      <td>0.0</td>\n",
       "      <td>0.0</td>\n",
       "      <td>0.0</td>\n",
       "      <td>0.0</td>\n",
       "      <td>0.0</td>\n",
       "      <td>0.0</td>\n",
       "      <td>0.0</td>\n",
       "    </tr>\n",
       "    <tr>\n",
       "      <th>APPLIED SIGNAL RECOGNITION</th>\n",
       "      <td>0.0</td>\n",
       "      <td>0.0</td>\n",
       "      <td>0.0</td>\n",
       "      <td>0.0</td>\n",
       "      <td>0.0</td>\n",
       "      <td>0.0</td>\n",
       "      <td>0.0</td>\n",
       "      <td>0.0</td>\n",
       "      <td>0.0</td>\n",
       "      <td>0.0</td>\n",
       "      <td>...</td>\n",
       "      <td>0.0</td>\n",
       "      <td>0.0</td>\n",
       "      <td>0.0</td>\n",
       "      <td>0.0</td>\n",
       "      <td>0.0</td>\n",
       "      <td>0.0</td>\n",
       "      <td>0.0</td>\n",
       "      <td>0.0</td>\n",
       "      <td>0.0</td>\n",
       "      <td>0.0</td>\n",
       "    </tr>\n",
       "    <tr>\n",
       "      <th>Advanced Kinematics, Dynamics, and Contr</th>\n",
       "      <td>0.0</td>\n",
       "      <td>0.0</td>\n",
       "      <td>0.0</td>\n",
       "      <td>0.0</td>\n",
       "      <td>0.0</td>\n",
       "      <td>0.0</td>\n",
       "      <td>0.0</td>\n",
       "      <td>0.0</td>\n",
       "      <td>0.0</td>\n",
       "      <td>0.0</td>\n",
       "      <td>...</td>\n",
       "      <td>0.0</td>\n",
       "      <td>0.0</td>\n",
       "      <td>0.0</td>\n",
       "      <td>0.0</td>\n",
       "      <td>0.0</td>\n",
       "      <td>0.0</td>\n",
       "      <td>0.0</td>\n",
       "      <td>0.0</td>\n",
       "      <td>0.0</td>\n",
       "      <td>0.0</td>\n",
       "    </tr>\n",
       "  </tbody>\n",
       "</table>\n",
       "<p>5 rows × 1000 columns</p>\n",
       "</div>"
      ],
      "text/plain": [
       "user_id                                   1     2     3     4     5     6     \\\n",
       "class_title                                                                    \n",
       "ADVANCED HEAT TRANSFER                     0.0   0.0   0.0   0.0   0.0   0.0   \n",
       "ADVANCED MACHINE DYNAMICS                  0.0   0.0   0.0   1.0   0.0   0.0   \n",
       "ADVANCED THERMODYNAMICS                    5.0   0.0   0.0   0.0   0.0   0.0   \n",
       "APPLIED SIGNAL RECOGNITION                 0.0   0.0   0.0   0.0   0.0   0.0   \n",
       "Advanced Kinematics, Dynamics, and Contr   0.0   0.0   0.0   0.0   0.0   0.0   \n",
       "\n",
       "user_id                                   7     8     9     10    ...   991   \\\n",
       "class_title                                                       ...          \n",
       "ADVANCED HEAT TRANSFER                     4.0   0.0   0.0   2.0  ...    0.0   \n",
       "ADVANCED MACHINE DYNAMICS                  0.0   0.0   0.0   0.0  ...    0.0   \n",
       "ADVANCED THERMODYNAMICS                    0.0   2.0   0.0   0.0  ...    4.0   \n",
       "APPLIED SIGNAL RECOGNITION                 0.0   0.0   0.0   0.0  ...    0.0   \n",
       "Advanced Kinematics, Dynamics, and Contr   0.0   0.0   0.0   0.0  ...    0.0   \n",
       "\n",
       "user_id                                   992   993   994   995   996   997   \\\n",
       "class_title                                                                    \n",
       "ADVANCED HEAT TRANSFER                     0.0   0.0   0.0   0.0   0.0   0.0   \n",
       "ADVANCED MACHINE DYNAMICS                  0.0   0.0   0.0   0.0   0.0   0.0   \n",
       "ADVANCED THERMODYNAMICS                    0.0   0.0   0.0   0.0   0.0   0.0   \n",
       "APPLIED SIGNAL RECOGNITION                 0.0   0.0   0.0   0.0   0.0   0.0   \n",
       "Advanced Kinematics, Dynamics, and Contr   0.0   0.0   0.0   0.0   0.0   0.0   \n",
       "\n",
       "user_id                                   998   999   1000  \n",
       "class_title                                                 \n",
       "ADVANCED HEAT TRANSFER                     0.0   0.0   0.0  \n",
       "ADVANCED MACHINE DYNAMICS                  0.0   0.0   0.0  \n",
       "ADVANCED THERMODYNAMICS                    0.0   0.0   0.0  \n",
       "APPLIED SIGNAL RECOGNITION                 0.0   0.0   0.0  \n",
       "Advanced Kinematics, Dynamics, and Contr   0.0   0.0   0.0  \n",
       "\n",
       "[5 rows x 1000 columns]"
      ]
     },
     "execution_count": 56,
     "metadata": {},
     "output_type": "execute_result"
    }
   ],
   "source": [
    "from scipy.sparse import csr_matrix\n",
    "\n",
    "#Transform the DF into a matrix \n",
    "pivot=rating_total.pivot(index=\"class_title\",columns=\"user_id\", values=\"rating\").fillna(0)\n",
    "\n",
    "# convert dataframe of movie features to scipy sparse matrix\n",
    "mat_class_features = csr_matrix(pivot.values)\n",
    "\n",
    "pivot.head()"
   ]
  },
  {
   "cell_type": "code",
   "execution_count": 57,
   "metadata": {},
   "outputs": [
    {
     "data": {
      "text/plain": [
       "NearestNeighbors(algorithm='brute', leaf_size=30, metric='cosine',\n",
       "         metric_params=None, n_jobs=-1, n_neighbors=20, p=2, radius=1.0)"
      ]
     },
     "execution_count": 57,
     "metadata": {},
     "output_type": "execute_result"
    }
   ],
   "source": [
    "from sklearn.neighbors import NearestNeighbors\n",
    "\n",
    "model_knn = NearestNeighbors(metric='cosine', algorithm='brute', n_neighbors=20, n_jobs=-1)\n",
    "model_knn.fit(mat_class_features)"
   ]
  },
  {
   "cell_type": "code",
   "execution_count": 60,
   "metadata": {},
   "outputs": [
    {
     "name": "stderr",
     "output_type": "stream",
     "text": [
      "/Users/nadiam/anaconda3/lib/python3.6/site-packages/ipykernel_launcher.py:2: FutureWarning: reshape is deprecated and will raise in a subsequent release. Please use .values.reshape(...) instead\n",
      "  \n"
     ]
    },
    {
     "name": "stdout",
     "output_type": "stream",
     "text": [
      "If you liked NANOSCALE ACTUATION &amp; SENSING, you'll like:\n",
      "\n",
      "1: MATERIALS/PROCESSES IN MANUFAC, with distance of 1.0:\n",
      "2: MECHANICAL ENGINEERING LAB II, with distance of 1.0:\n",
      "3: MECH &amp; THERMODYNAMICS OF PROPULSION, with distance of 1.0:\n",
      "4: MECHANICS OF FLUIDS, with distance of 1.0:\n",
      "5: MASTERS THESIS, with distance of 1.0:\n"
     ]
    }
   ],
   "source": [
    "query_index=np.random.choice(pivot.shape[0])\n",
    "distances, indices =model_knn.kneighbors(pivot.iloc[query_index,:].reshape(1,-1), n_neighbors=6)\n",
    "\n",
    "for i in range(0,len(distances.flatten())):\n",
    "    if i == 0:\n",
    "        print(\"If you liked {0}, you'll like:\\n\".format(pivot.index[query_index]))\n",
    "    else:\n",
    "        print('{0}: {1}, with distance of {2}:'.format(i, pivot.index[indices.flatten()[i]], distances.flatten()[i]))"
   ]
  },
  {
   "cell_type": "markdown",
   "metadata": {},
   "source": [
    "# I need to solve this euclidean distance inaccuracy."
   ]
  },
  {
   "cell_type": "markdown",
   "metadata": {},
   "source": [
    "This issue with the euclidean distance may have something to do with further tuning the KNN. This will be something I'll continue working on.\n",
    "\n",
    "It also may be a result of the small distances between the datapoints in the mock data. "
   ]
  },
  {
   "cell_type": "markdown",
   "metadata": {},
   "source": [
    "### References:\n",
    "1. Li, Susan. 2017. “How Did We Build Book Recommender Systems in An Hour Part 2 — k NearestNeighbors and Matrix....”. Library Catalog: towardsdatascience.com.URL:https://towardsdatascience.com/how-did-we-build-book-recommender-systems-in-an-hour-part-2-k-nearest-neighbors-and-matrix-c04b3c2ef55c\n",
    "2. Liao, Kevin. 2018. “Prototyping a Recommender System Step by Step Part 1: KNN Item-Based Col-laborative Filtering.”. Library Catalog: towardsdatascience.com.URL:https://towardsdatascience.com/prototyping-a-recommender-system-step-by-step-part-1-knn-item-based-collaborative-filtering-637969614ea\n",
    "3. Dan. N.d.  “Web scraping using Python and BeautifulSoup | Codementor.”.  Library Catalog:www.codementor.io.URL:https://www.codementor.io/@dankhan/web-scrapping-using-python-and-beautifulsoup-o3hxadit4\n"
   ]
  },
  {
   "cell_type": "code",
   "execution_count": null,
   "metadata": {
    "collapsed": true
   },
   "outputs": [],
   "source": []
  }
 ],
 "metadata": {
  "kernelspec": {
   "display_name": "Python 3",
   "language": "python",
   "name": "python3"
  }
 },
 "nbformat": 4,
 "nbformat_minor": 2
}
