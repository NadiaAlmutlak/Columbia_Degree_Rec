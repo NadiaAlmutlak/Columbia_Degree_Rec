{
 "cells": [
  {
   "cell_type": "code",
   "execution_count": 73,
   "metadata": {
    "collapsed": true
   },
   "outputs": [],
   "source": [
    "from bs4 import BeautifulSoup\n",
    "import requests \n",
    "import re \n",
    "import numpy as np\n",
    "import pandas as pd"
   ]
  },
  {
   "cell_type": "code",
   "execution_count": 27,
   "metadata": {
    "collapsed": true
   },
   "outputs": [],
   "source": [
    "with open(\"nadia.html\", \"r\") as file: \n",
    "    web_text = file.readlines()"
   ]
  },
  {
   "cell_type": "code",
   "execution_count": 32,
   "metadata": {
    "collapsed": true
   },
   "outputs": [],
   "source": [
    "web_string = \"\"\n",
    "for part in web_text: \n",
    "    web_string += part"
   ]
  },
  {
   "cell_type": "code",
   "execution_count": 69,
   "metadata": {
    "collapsed": true
   },
   "outputs": [],
   "source": [
    "course_names = re.findall(\"E\\d+<br>(.+)<\\/b>\", web_string)"
   ]
  },
  {
   "cell_type": "code",
   "execution_count": 77,
   "metadata": {
    "collapsed": true
   },
   "outputs": [],
   "source": [
    "course_numbers = list(pd.Series(re.findall(\"(E\\d+)\", web_string)).drop_duplicates())"
   ]
  },
  {
   "cell_type": "code",
   "execution_count": 78,
   "metadata": {},
   "outputs": [
    {
     "data": {
      "text/plain": [
       "(41, 41)"
      ]
     },
     "execution_count": 78,
     "metadata": {},
     "output_type": "execute_result"
    }
   ],
   "source": [
    "len(course_names), len(course_numbers)"
   ]
  },
  {
   "cell_type": "code",
   "execution_count": 84,
   "metadata": {},
   "outputs": [
    {
     "data": {
      "text/plain": [
       "[('E1008', 'INTRO TO MACHINING'),\n",
       " ('E3028', 'MECHANICAL ENGINEERING LAB II'),\n",
       " ('E3105', 'MECHANICS'),\n",
       " ('E3311', 'HEAT TRANSFER'),\n",
       " ('E3408', 'COMPUTER GRAPHICS &amp; DESIGN'),\n",
       " ('E3411', 'REVIEW OF FUNDMNTLS MECE ENGR'),\n",
       " ('E3430', 'ENGINEERING DESIGN'),\n",
       " ('E3450', 'COMPUTER AIDED DESIGN'),\n",
       " ('E3610', 'MATERIALS/PROCESSES IN MANUFAC'),\n",
       " ('E3901', 'HONORS TUTORIAL IN MECH ENGIN'),\n",
       " ('E3998', 'PROJECTS IN MECH ENGINEERING'),\n",
       " ('E3999', 'FIELDWORK'),\n",
       " ('E4058', 'MECHATRONICS &amp; EMBEDDED MICRO'),\n",
       " ('E4100', 'MECHANICS OF FLUIDS'),\n",
       " ('E4200', 'HUMAN-CENTERED DESIGN AND INNO'),\n",
       " ('E4214', 'MEMS PRODUCTION &amp; PACKAGING'),\n",
       " ('E4302', 'ADVANCED THERMODYNAMICS'),\n",
       " ('E4305', 'MECH &amp; THERMODYNAMICS OF PROPULSION'),\n",
       " ('E4306', 'INTRO TO AERODYNAMICS'),\n",
       " ('E4314', 'ENERGY DYNAMICS OF GREEN BLDGS'),\n",
       " ('E4520', 'DATA SCIENCE FOR MECHANICAL SYSTEMS'),\n",
       " ('E4601', 'DIGITAL CONTROL SYSTEMS'),\n",
       " ('E4606', 'DIGITAL MANUFACTURING'),\n",
       " ('E4609', 'COMPUTER AIDED MANUFACTURING'),\n",
       " ('E4611', 'ROBOTICS STUDIO'),\n",
       " ('E4710', 'MORPHOGENESIS:BIOL MAT SHP/STR'),\n",
       " ('E4810', 'INTRO TO HUMAN SPACE FLIGHT'),\n",
       " ('E4998', 'MS PROJECTS IN MECH ENGINEER'),\n",
       " ('E4999', 'FIELDWORK'),\n",
       " ('E6102', 'COMPUTATNL HEAT TRANSF-FL FLOW'),\n",
       " ('E6137', 'NANOSCALE ACTUATION &amp; SENSING'),\n",
       " ('E6310', 'MIXT THEORIES FOR BIOL TISSUES'),\n",
       " ('E6313', 'ADVANCED HEAT TRANSFER'),\n",
       " ('E6400', 'ADVANCED MACHINE DYNAMICS'),\n",
       " ('E6616', 'ROBOT LEARNING'),\n",
       " ('E6617', 'Advanced Kinematics, Dynamics, and Contr'),\n",
       " ('E6620', 'APPLIED SIGNAL RECOGNITION'),\n",
       " ('E8020', 'MASTERS THESIS'),\n",
       " ('E9001', 'GRADUATE RESEARCH AND STUDY II'),\n",
       " ('E9500', 'GRADUATE SEMINAR'),\n",
       " ('E9800', 'DOCTORAL RESEARCH INSTRUCTION')]"
      ]
     },
     "execution_count": 84,
     "metadata": {},
     "output_type": "execute_result"
    }
   ],
   "source": [
    "list(zip(course_numbers, course_names))"
   ]
  },
  {
   "cell_type": "code",
   "execution_count": 82,
   "metadata": {
    "collapsed": true
   },
   "outputs": [],
   "source": [
    "pd.DataFrame({\"course_number\":course_numbers, \"course_title\":course_names}).to_csv(\"columbia_meche_sp2020.csv\", index=False)"
   ]
  }
 ],
 "metadata": {
  "kernelspec": {
   "display_name": "Python 3",
   "language": "python",
   "name": "python3"
  },
  "language_info": {
   "codemirror_mode": {
    "name": "ipython",
    "version": 3
   },
   "file_extension": ".py",
   "mimetype": "text/x-python",
   "name": "python",
   "nbconvert_exporter": "python",
   "pygments_lexer": "ipython3",
   "version": "3.6.3"
  }
 },
 "nbformat": 4,
 "nbformat_minor": 4
}
